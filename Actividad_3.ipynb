{
  "nbformat": 4,
  "nbformat_minor": 0,
  "metadata": {
    "colab": {
      "provenance": []
    },
    "kernelspec": {
      "name": "python3",
      "display_name": "Python 3"
    },
    "language_info": {
      "name": "python"
    }
  },
  "cells": [
    {
      "cell_type": "markdown",
      "source": [
        "# Ejercicio 1: Desarrollo de Laplace\n",
        "\n",
        "### Parte 1: Determinante en dimensión 0, 1 y 2\n",
        "\n",
        "##### Dimensión 0:\n",
        "\n",
        "![det1.png](data:image/png;base64,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)\n",
        "\n",
        "El determinante de una matriz vacía se define como 1.\n",
        "\n",
        "##### Dimensión 1:\n",
        "\n",
        "![Captura de pantalla 2024-06-26 222804.png](data:image/png;base64,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)\n",
        "\n",
        "El determinante de una matriz 1×1 es simplemente el valor del único elemento.\n",
        "\n",
        "##### Dimensión 2:\n",
        "\n",
        "![Captura de pantalla 2024-06-26 222823.png](data:image/png;base64,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)\n",
        "\n",
        "Para una matriz 2×2, el determinante se calcula como el producto de los elementos de la diagonal principal menos el producto de los elementos de la diagonal secundaria.\n"
      ],
      "metadata": {
        "id": "Q_dGzseFLy7H"
      }
    },
    {
      "cell_type": "markdown",
      "source": [
        "\n",
        "### Parte 2: Expresar el determinante recursivamente\n",
        "A partir de la definición 4, el determinante de una matriz cuadrada A de dimensión n+1 se puede expresar en términos de los determinantes de sus submatrices de dimensión n.\n",
        "\n",
        "Para cada n∈N, distribuir (por linealidad en las columnas) sobre la descomposición:\n",
        "\n",
        "![Captura de pantalla 2024-06-26 222617.png](data:image/png;base64,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)\n",
        "\n",
        "El determinante se puede calcular recursivamente utilizando la fórmula de Laplace:\n",
        "\n",
        "![Captura de pantalla 2024-06-26 222841.png](data:image/png;base64,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)\n",
        "\n",
        "donde 𝑎1𝑗 son los elementos de la primera fila de A y 𝐴1𝑗 son las submatrices de A obtenidas al eliminar la primera fila y la j-ésima columna.\n"
      ],
      "metadata": {
        "id": "WpX_nrHoNoMk"
      }
    },
    {
      "cell_type": "markdown",
      "source": [
        "#### Parte 3: Implementación en Python\n"
      ],
      "metadata": {
        "id": "lzG65KVzQQZa"
      }
    },
    {
      "cell_type": "code",
      "source": [
        "def determinant(matrix):\n",
        "    # Caso base para una matriz 1x1\n",
        "    if len(matrix) == 1:\n",
        "        return matrix[0][0]\n",
        "\n",
        "    # Caso base para una matriz 2x2\n",
        "    if len(matrix) == 2:\n",
        "        return matrix[0][0] * matrix[1][1] - matrix[0][1] * matrix[1][0]\n",
        "\n",
        "    det = 0\n",
        "    for c in range(len(matrix)):\n",
        "        submatrix = [row[:c] + row[c+1:] for row in (matrix[1:])]\n",
        "        det += ((-1) ** c) * matrix[0][c] * determinant(submatrix)\n",
        "\n",
        "    return det\n",
        "\n",
        "matrix1 = [\n",
        "    [7]\n",
        "]\n",
        "print(determinant(matrix1))  # Debería imprimir 7\n",
        "\n",
        "\n",
        "\n",
        "matrix2 = [\n",
        "    [4, 6],\n",
        "    [3, 8]\n",
        "]\n",
        "print(determinant(matrix2))  # Debería imprimir 14\n",
        "\n",
        "# Ejemplo de uso\n",
        "matrix3 = [\n",
        "    [1, 2, 3],\n",
        "    [4, 5, 6],\n",
        "    [7, 8, 9]\n",
        "]\n",
        "print(determinant(matrix3))  # Debería imprimir 0\n",
        "\n",
        "\n",
        "matrix4 = [\n",
        "    [1, 2, 3, 4],\n",
        "    [5, 6, 7, 8],\n",
        "    [9, 10, 11, 12],\n",
        "    [13, 14, 15, 16]\n",
        "]\n",
        "print(determinant(matrix4))  # Debería imprimir 0\n",
        "\n",
        "matrix5 = [\n",
        "    [2, 0, 1, -3, 4],\n",
        "    [1, 2, 0, 2, 1],\n",
        "    [4, 0, 3, 4, 5],\n",
        "    [1, -1, 3, 2, 2],\n",
        "    [2, 4, 2, 1, 3]\n",
        "]\n",
        "print(determinant(matrix5))  # Debería imprimir 92\n",
        "\n",
        "import numpy as np\n",
        "\n",
        "matrix = [\n",
        "    [2, 0, 1, -3, 4],\n",
        "    [1, 2, 0, 2, 1],\n",
        "    [4, 0, 3, 4, 5],\n",
        "    [1, -1, 3, 2, 2],\n",
        "    [2, 4, 2, 1, 3]\n",
        "]\n"
      ],
      "metadata": {
        "colab": {
          "base_uri": "https://localhost:8080/"
        },
        "id": "rwq4KYp2QSXs",
        "outputId": "7bb23f3b-c79a-4040-95dd-b1b8ce815f2b"
      },
      "execution_count": 9,
      "outputs": [
        {
          "output_type": "stream",
          "name": "stdout",
          "text": [
            "7\n",
            "14\n",
            "0\n",
            "0\n",
            "92\n"
          ]
        }
      ]
    },
    {
      "cell_type": "markdown",
      "source": [
        "### Ejercicio 2: Eliminación de Gauss–Jordan\n",
        "##### Parte 1: Efecto en el determinante\n",
        "Sumar a una de sus columnas una combinación lineal de las demás no cambia el determinante de la matriz. Esto se debe a que las operaciones elementales de suma de filas/columnas son equivalentes a multiplicar la matriz por una matriz elemental, cuya determinante es 1.\n",
        "\n",
        "##### Parte 2: Estrategia para triangularizar sin cambiar el determinante\n",
        "Para triangularizar una matriz sin cambiar su determinante, se pueden utilizar solo las operaciones elementales que no afectan al determinante:\n",
        "\n",
        "- Intercambio de filas/columnas (multiplica el determinante por -1)\n",
        "- Multiplicación de una fila/columna por un escalar (multiplica el determinante por el escalar)\n",
        "- Suma de una fila/columna multiplicada por un escalar a otra fila/columna (no cambia el determinante)\n",
        "\n",
        "##### Parte 3: Implementación en Python"
      ],
      "metadata": {
        "id": "WUNrdNQOQYBo"
      }
    },
    {
      "cell_type": "code",
      "source": [
        "import numpy as np\n",
        "\n",
        "def gauss_jordan_determinant(matrix):\n",
        "    n = len(matrix)\n",
        "    A = np.array(matrix, float)\n",
        "    det = 1\n",
        "    for i in range(n):\n",
        "        if A[i,i] == 0:\n",
        "            for j in range(i+1, n):\n",
        "                if A[j,i] != 0:\n",
        "                    A[[i,j]] = A[[j,i]]\n",
        "                    det *= -1\n",
        "                    break\n",
        "        det *= A[i,i]\n",
        "        A[i] = A[i] / A[i,i]\n",
        "        for j in range(i+1, n):\n",
        "            A[j] -= A[i] * A[j,i]\n",
        "    return det\n",
        "\n",
        "# Ejemplo de uso\n",
        "matrix = [\n",
        "    [1, 2, 3],\n",
        "    [4, 5, 6],\n",
        "    [7, 8, 9]\n",
        "]\n",
        "print(gauss_jordan_determinant(matrix))  # Debería imprimir 0\n"
      ],
      "metadata": {
        "colab": {
          "base_uri": "https://localhost:8080/"
        },
        "id": "80OfdizKQ1OD",
        "outputId": "f93df787-d792-4720-feb4-d9ed9eb6f93d"
      },
      "execution_count": 10,
      "outputs": [
        {
          "output_type": "stream",
          "name": "stdout",
          "text": [
            "-0.0\n"
          ]
        },
        {
          "output_type": "stream",
          "name": "stderr",
          "text": [
            "<ipython-input-10-19efdec6fb5b>:15: RuntimeWarning: invalid value encountered in divide\n",
            "  A[i] = A[i] / A[i,i]\n"
          ]
        }
      ]
    },
    {
      "cell_type": "markdown",
      "source": [
        "### Ejercicio 3: Comparación\n",
        "##### Parte 1: Complejidad computacional\n",
        "- Desarrollo de Laplace:𝑂(𝑛!)\n",
        "- Eliminación de Gauss–Jordan: 𝑂(𝑛3)\n",
        "\n",
        "##### Parte 2: Generar matrices aleatorias y comparar tiempos de ejecución"
      ],
      "metadata": {
        "id": "Pt1reeN2Q6MZ"
      }
    },
    {
      "cell_type": "code",
      "source": [
        "import time\n",
        "import numpy as np\n",
        "\n",
        "def compare_determinants():\n",
        "    dimensions = range(2, 11)\n",
        "    for n in dimensions:\n",
        "        matrix = np.random.rand(n, n).tolist()\n",
        "\n",
        "        start = time.time()\n",
        "        laplace_det = determinant(matrix)\n",
        "        laplace_time = time.time() - start\n",
        "\n",
        "        start = time.time()\n",
        "        gauss_det = gauss_jordan_determinant(matrix)\n",
        "        gauss_time = time.time() - start\n",
        "\n",
        "        start = time.time()\n",
        "        numpy_det = np.linalg.det(matrix)\n",
        "        numpy_time = time.time() - start\n",
        "\n",
        "        print(f\"Dimension: {n}\")\n",
        "        print(f\"Laplace Time: {laplace_time:.6f}s\")\n",
        "        print(f\"Gauss-Jordan Time: {gauss_time:.6f}s\")\n",
        "        print(f\"Numpy Time: {numpy_time:.6f}s\")\n",
        "\n",
        "compare_determinants()\n"
      ],
      "metadata": {
        "colab": {
          "base_uri": "https://localhost:8080/"
        },
        "id": "8Is6DwjMQ5nV",
        "outputId": "6b5140ae-729a-4f30-d309-cdc08fdd594f"
      },
      "execution_count": 11,
      "outputs": [
        {
          "output_type": "stream",
          "name": "stdout",
          "text": [
            "Dimension: 2\n",
            "Laplace Time: 0.000013s\n",
            "Gauss-Jordan Time: 0.000187s\n",
            "Numpy Time: 0.000605s\n",
            "Dimension: 3\n",
            "Laplace Time: 0.000028s\n",
            "Gauss-Jordan Time: 0.000127s\n",
            "Numpy Time: 0.000139s\n",
            "Dimension: 4\n",
            "Laplace Time: 0.000058s\n",
            "Gauss-Jordan Time: 0.000100s\n",
            "Numpy Time: 0.000075s\n",
            "Dimension: 5\n",
            "Laplace Time: 0.000209s\n",
            "Gauss-Jordan Time: 0.000166s\n",
            "Numpy Time: 0.000079s\n",
            "Dimension: 6\n",
            "Laplace Time: 0.000940s\n",
            "Gauss-Jordan Time: 0.001133s\n",
            "Numpy Time: 0.000073s\n",
            "Dimension: 7\n",
            "Laplace Time: 0.007904s\n",
            "Gauss-Jordan Time: 0.000242s\n",
            "Numpy Time: 0.000113s\n",
            "Dimension: 8\n",
            "Laplace Time: 0.048676s\n",
            "Gauss-Jordan Time: 0.000212s\n",
            "Numpy Time: 0.000087s\n",
            "Dimension: 9\n",
            "Laplace Time: 0.451806s\n",
            "Gauss-Jordan Time: 0.000242s\n",
            "Numpy Time: 0.000088s\n",
            "Dimension: 10\n",
            "Laplace Time: 4.417380s\n",
            "Gauss-Jordan Time: 0.000239s\n",
            "Numpy Time: 0.000091s\n"
          ]
        }
      ]
    },
    {
      "cell_type": "markdown",
      "source": [
        "### Ejercicio 4: Descenso de Gradiente\n",
        "##### Parte 1: Implementación del algoritmo de descenso de gradiente"
      ],
      "metadata": {
        "id": "y2uiVWXORStX"
      }
    },
    {
      "cell_type": "code",
      "execution_count": 12,
      "metadata": {
        "colab": {
          "base_uri": "https://localhost:8080/"
        },
        "id": "1VrWe5MaLseY",
        "outputId": "b557dad9-2f44-4651-cd78-8d4eec74677f"
      },
      "outputs": [
        {
          "output_type": "stream",
          "name": "stdout",
          "text": [
            "[3 4]\n"
          ]
        }
      ],
      "source": [
        "import numpy as np\n",
        "\n",
        "def gradient(f, x, h=1e-8):\n",
        "    grad = np.zeros_like(x)\n",
        "    for i in range(len(x)):\n",
        "        x0 = x.copy()\n",
        "        x0[i] += h\n",
        "        grad[i] = (f(x0) - f(x)) / h\n",
        "    return grad\n",
        "\n",
        "def gradient_descent(f, x0, y, z, max_iter=10**5):\n",
        "    x = x0\n",
        "    for _ in range(max_iter):\n",
        "        grad = gradient(f, x)\n",
        "        if np.linalg.norm(grad) < z:\n",
        "            break\n",
        "        x = x - y * grad\n",
        "    return x\n",
        "\n",
        "# Ejemplo de uso con una función simple\n",
        "f = lambda x: x[0]**2 + x[1]**2\n",
        "x0 = np.array([3, 4])\n",
        "y = 0.1\n",
        "z = 1e-12\n",
        "\n",
        "minimo = gradient_descent(f, x0, y, z)\n",
        "print(minimo)  # Debería imprimir un punto cercano a [0, 0]\n"
      ]
    },
    {
      "cell_type": "markdown",
      "source": [
        "##### Parte 2: Calcular formalmente las raíces de la derivada\n",
        "![Captura de pantalla 2024-06-26 223904.png](data:image/png;base64,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)\n"
      ],
      "metadata": {
        "id": "0k5nVkCERbur"
      }
    },
    {
      "cell_type": "markdown",
      "source": [
        "##### Parte 3: Aplicación del algoritmo\n"
      ],
      "metadata": {
        "id": "O-mEkTMtRoop"
      }
    },
    {
      "cell_type": "code",
      "source": [
        "f = lambda t: 3*t**4 + 4*t**3 - 12*t**2 + 7\n",
        "grad_f = lambda t: 12*t**3 + 12*t**2 - 24*t\n",
        "\n",
        "# Función para un solo valor t\n",
        "def gradient_descent_single(f, grad_f, x0, y, z, max_iter=10**5):\n",
        "    x = float(x0)\n",
        "    for _ in range(max_iter):\n",
        "        grad = grad_f(x)\n",
        "        if abs(grad) < z:\n",
        "            break\n",
        "        x = x - y * grad\n",
        "        # Evitar desbordamientos numéricos\n",
        "        x = np.clip(x, -1e100, 1e100)\n",
        "    return x\n",
        "\n",
        "# Aplicar con diferentes valores iniciales y razones\n",
        "tolerancia = 1e-12\n",
        "valores_iniciales = [3, 0]\n",
        "razones = [1e-1, 1e-2, 1e-3]\n",
        "\n",
        "for x0 in valores_iniciales:\n",
        "    for y in razones:\n",
        "        minimo = gradient_descent_single(f, grad_f, x0, y, tolerancia)\n",
        "        print(f\"Valor inicial: {x0}, razón: {y}, mínimo: {minimo}\")\n",
        "\n",
        "# Repetir con la función de dos variables\n",
        "f = lambda s, t: s**2 + 3*s*t + t**3 + 1\n",
        "grad_f = lambda st: np.array([2*st[0] + 3*st[1], 3*st[0] + 3*st[1]**2])\n",
        "\n",
        "# Función para dos variables\n",
        "def gradient_descent_multi(f, grad_f, x0, y, z, max_iter=10**5):\n",
        "    x = np.array(x0, dtype=float)\n",
        "    for _ in range(max_iter):\n",
        "        grad = grad_f(x)\n",
        "        if np.linalg.norm(grad) < z:\n",
        "            break\n",
        "        x = x - y * grad\n",
        "        # Evitar desbordamientos numéricos\n",
        "        x = np.clip(x, -1e100, 1e100)\n",
        "    return x\n",
        "\n",
        "# Aplicar con diferentes valores iniciales y razones\n",
        "valores_iniciales = [[-1, 1], [0, 0]]\n",
        "\n",
        "for x0 in valores_iniciales:\n",
        "    for y in razones:\n",
        "        minimo = gradient_descent_multi(f, grad_f, x0, y, tolerancia)\n",
        "        print(f\"Valor inicial: {x0}, razón: {y}, mínimo: {minimo}\")\n"
      ],
      "metadata": {
        "colab": {
          "base_uri": "https://localhost:8080/"
        },
        "id": "C8z9sJSeRrC6",
        "outputId": "8aff22c5-cd4e-409f-bfbf-ce460c58527d"
      },
      "execution_count": 13,
      "outputs": [
        {
          "output_type": "stream",
          "name": "stdout",
          "text": [
            "Valor inicial: 3, razón: 0.1, mínimo: 1e+100\n",
            "Valor inicial: 3, razón: 0.01, mínimo: -1.9999999999999882\n",
            "Valor inicial: 3, razón: 0.001, mínimo: 1.0000000000000275\n",
            "Valor inicial: 0, razón: 0.1, mínimo: 0.0\n",
            "Valor inicial: 0, razón: 0.01, mínimo: 0.0\n",
            "Valor inicial: 0, razón: 0.001, mínimo: 0.0\n",
            "Valor inicial: [-1, 1], razón: 0.1, mínimo: [-2.25  1.5 ]\n",
            "Valor inicial: [-1, 1], razón: 0.01, mínimo: [-2.25  1.5 ]\n",
            "Valor inicial: [-1, 1], razón: 0.001, mínimo: [-2.25  1.5 ]\n",
            "Valor inicial: [0, 0], razón: 0.1, mínimo: [0. 0.]\n",
            "Valor inicial: [0, 0], razón: 0.01, mínimo: [0. 0.]\n",
            "Valor inicial: [0, 0], razón: 0.001, mínimo: [0. 0.]\n"
          ]
        }
      ]
    }
  ]
}